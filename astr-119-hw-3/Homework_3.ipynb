{
 "cells": [
  {
   "cell_type": "markdown",
   "metadata": {},
   "source": [
    "\n"
   ]
  },
  {
   "cell_type": "markdown",
   "metadata": {},
   "source": [
    "# Homework #3"
   ]
  },
  {
   "cell_type": "markdown",
   "metadata": {},
   "source": [
    "## Name - Rakshya Sharma\n",
    "## Subject - ASTR-119\n",
    "## Assignment - Homework 3\n",
    "## Date - October 13, 2021\n",
    "## Purpose - The purpose of this assignment is to create a jupyter notebook and get familiar with numpy and matplotlib library in python. \n"
   ]
  },
  {
   "cell_type": "code",
   "execution_count": null,
   "metadata": {},
   "outputs": [],
   "source": [
    "%matplotlib inline\n",
    "import numpy as np # imports the numpy library\n",
    "import matplotlib.pyplot as plt  #imports matplotlib"
   ]
  },
  {
   "cell_type": "code",
   "execution_count": null,
   "metadata": {},
   "outputs": [],
   "source": [
    "#using numpy to create an array x running x = [0, 2 * pi]\n",
    "#inclusive with 1000 values\n",
    "'''\n",
    "#making an array using arange\n",
    "n = 1000\n",
    "x = np.arange(n, dtype = float) #make an array\n",
    "x *= 2.0*np.pi/float(n-1) #x = [0,2*pi]\n",
    "'''\n",
    "# 1\n",
    "# in a single line we can make an array using linspace\n",
    "\n",
    "x = np.linspace(0, 2*np.pi, 1000)\n",
    "print(\"Print first element of x = \", x[0]) # first element is 0\n",
    "print(\"Print last element of x = \", x[-1]) # value of 2pi = 6.283185307179586\n"
   ]
  },
  {
   "cell_type": "code",
   "execution_count": null,
   "metadata": {},
   "outputs": [],
   "source": [
    "fig = plt.figure(figsize=[10,10]) # sets the figure size to 10 x 10\n",
    "\n",
    "plt.xlim([0,2*np.pi]) # sets the x range to [0, 2*pi]\n",
    "plt.ylim([-1,10])  # sets the y range to [-1, 10]\n",
    "\n",
    "\n",
    "# plotting the given values \n",
    "# y1 as a). y(x) = 5.5 cos(2 * x) + 5.5\n",
    "\n",
    "# y2 as b). y(x) = 0.02 * exp( x )\n",
    "\n",
    "# y3 as c). y(x) = 0.25 * x^2  + 0.1 sin (10 * x)\n",
    "\n",
    "y1 = 5.5* np.cos(2 * x) + 5.5\n",
    "y2 = 0.02 * np.exp( x )\n",
    "y3 = 0.25 * x**2  + 0.1* np.sin (10 * x)\n",
    "\n",
    "plt.plot(x, y1, label ='a). y(x) = 5.5 cos(2 * x) + 5.5')\n",
    "plt.plot(x, y2, label ='b). y(x) = 0.02 * exp( x )')\n",
    "plt.plot(x, y3, label ='c). y(x) = 0.25 * x^2  + 0.1 sin (10 * x)')\n",
    "\n",
    "# 2\n",
    "#plotting the x and y range\n",
    "\n",
    "plt.xlabel('Time in ASTR 119') # labels the x axis\n",
    "plt.ylabel('Measures of Awesomeness') # labels the y axia\n",
    "plt.legend(loc = 1, framealpha = 0.4) #semi transparent\n",
    "\n",
    "plt.show()\n",
    "\n",
    "#plt.savefig('plot.png')\n",
    "\n",
    "\n"
   ]
  },
  {
   "cell_type": "code",
   "execution_count": null,
   "metadata": {},
   "outputs": [],
   "source": []
  }
 ],
 "metadata": {
  "kernelspec": {
   "display_name": "Python 3",
   "language": "python",
   "name": "python3"
  },
  "language_info": {
   "codemirror_mode": {
    "name": "ipython",
    "version": 3
   },
   "file_extension": ".py",
   "mimetype": "text/x-python",
   "name": "python",
   "nbconvert_exporter": "python",
   "pygments_lexer": "ipython3",
   "version": "3.8.10"
  }
 },
 "nbformat": 4,
 "nbformat_minor": 4
}
