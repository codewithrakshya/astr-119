{
 "cells": [
  {
   "cell_type": "markdown",
   "metadata": {},
   "source": [
    "# Homework #5"
   ]
  },
  {
   "cell_type": "markdown",
   "metadata": {},
   "source": [
    "## Name - Rakshya Sharma\n",
    "## Subject - ASTR-119\n",
    "## Assignment - Homework 5\n",
    "## Date - November 3, 2021\n",
    "## Purpose - The purpose of this assignment is to write a jupyter notebook to numerically integrate the given function using the trapezoid, Simpson's method and Romberg integration.\n",
    "## References - Professor Brant's code from Tuesday, October 26 lecture and session 10 slides. Python Data Science Handbook Pg. 55 (Exponents and Logarithms), \n",
    "\n"
   ]
  },
  {
   "cell_type": "code",
   "execution_count": null,
   "metadata": {},
   "outputs": [],
   "source": [
    "%matplotlib inline\n",
    "import numpy as np\n",
    "import matplotlib.pyplot as plt"
   ]
  },
  {
   "cell_type": "markdown",
   "metadata": {},
   "source": [
    "## Using Trapezoidal, Simpson's Method and Romberg Integration"
   ]
  },
  {
   "cell_type": "markdown",
   "metadata": {},
   "source": [
    "### Let's define the function to integrate"
   ]
  },
  {
   "cell_type": "code",
   "execution_count": null,
   "metadata": {},
   "outputs": [],
   "source": [
    "def func(x):\n",
    "    a = -2\n",
    "    b = 10\n",
    "    return np.exp(a*x) * np.cos(b*x) "
   ]
  },
  {
   "cell_type": "markdown",
   "metadata": {},
   "source": [
    "## Define it's integral so we know the right answer"
   ]
  },
  {
   "cell_type": "code",
   "execution_count": null,
   "metadata": {},
   "outputs": [],
   "source": [
    "def func_integral(x):\n",
    "    a = -2\n",
    "    b = -10\n",
    "    c = 0 \n",
    "    \n",
    "    return np.exp(a*x) *(5* np.sin(10*x) + np.cos(10*x))/52. + c*x"
   ]
  },
  {
   "cell_type": "markdown",
   "metadata": {},
   "source": [
    "## Define the core of trapezoid method"
   ]
  },
  {
   "cell_type": "code",
   "execution_count": null,
   "metadata": {},
   "outputs": [],
   "source": [
    "def trapezoid_core(f,x,h):\n",
    "    return 0.5*h*(f(x+h) + f(x))\n",
    "#evaluating in the left side of trapezoid    "
   ]
  },
  {
   "cell_type": "markdown",
   "metadata": {},
   "source": [
    "## Define the wrapper function to perform the trapezoid method"
   ]
  },
  {
   "cell_type": "code",
   "execution_count": null,
   "metadata": {},
   "outputs": [],
   "source": [
    "def trapezoid_method(f,a,b,N):\n",
    "    #f == function to integrate\n",
    "    #a == lower limit of integration\n",
    "    #b == upper limit of integration\n",
    "    #N == number of intervals to use\n",
    "    \n",
    "    #define x values to perform the trapezoid rule\n",
    "    x = np.linspace(a,b,N)\n",
    "   \n",
    "    h = x[1]-x[0]\n",
    "    \n",
    "    #define value of the integral\n",
    "    Fint = 0.0\n",
    "    \n",
    "    #perform the integral using the \n",
    "    #trapezoid method\n",
    "    \n",
    "    for i in range(0,len(x)-1, 1):\n",
    "        Fint += trapezoid_core(f,x[i],h)\n",
    "        \n",
    "    #return the answer\n",
    "    return Fint"
   ]
  },
  {
   "cell_type": "markdown",
   "metadata": {},
   "source": [
    "## Define the core of simpson's method"
   ]
  },
  {
   "cell_type": "code",
   "execution_count": null,
   "metadata": {},
   "outputs": [],
   "source": [
    "def simpson_core(f,x,h):\n",
    "    return h*(f(x) + 4*f(x+h) + f(x+2*h))/3.\n"
   ]
  },
  {
   "cell_type": "markdown",
   "metadata": {},
   "source": [
    "## Define a wrapper for Simpson's method"
   ]
  },
  {
   "cell_type": "code",
   "execution_count": null,
   "metadata": {},
   "outputs": [],
   "source": [
    "def simpsons_method(f,a,b,N):\n",
    "    #f == function to integrate\n",
    "    #a == lower limit of integration\n",
    "    #b == upper limit of integration\n",
    "    #N == number of intervals to use\n",
    "    #note the number of chunks will be N-1\n",
    "    #so if N is odd, then we don't need to \n",
    "    #adjust the last segment\n",
    "    \n",
    "    #define x values to perform the simpsons rule\n",
    "    x = np.linspace(a,b,N)\n",
    "    h = x[1]-x[0]\n",
    "    \n",
    "    #define the value of the integral\n",
    "    Fint = 0.0\n",
    "    \n",
    "    #perform the integral using the \n",
    "    #simpsons method\n",
    "    \n",
    "    for i in range(0, len(x)-2, 2):\n",
    "        Fint += simpson_core(f,x[i],h)\n",
    "    \n",
    "    #apply simpson's rule over the last interval\n",
    "    #if N is even\n",
    "    if((N%2)==0):\n",
    "        Fint += simpson_core(f,x[-2],0.5*h)\n",
    "        \n",
    "    #return the answer\n",
    "    return Fint"
   ]
  },
  {
   "cell_type": "markdown",
   "metadata": {},
   "source": [
    "## Define Romberg core"
   ]
  },
  {
   "cell_type": "code",
   "execution_count": null,
   "metadata": {},
   "outputs": [],
   "source": [
    "def romberg_core(f,a,b,i):\n",
    "    \n",
    "    # we need the difference between a and b\n",
    "    h = b-a\n",
    "    \n",
    "    #interval between function evaluation at refine level i\n",
    "    dh = h/2. ** (i)\n",
    "    \n",
    "    #we need the cofactor\n",
    "    K = h/2. ** (i+1)\n",
    "    \n",
    "    #and the function evaluations\n",
    "    M = 0.0\n",
    "    for j in range(2**i):\n",
    "        M += f(a + 0.5*dh + j*dh)\n",
    "        \n",
    "   #return the answer\n",
    "    return K*M\n"
   ]
  },
  {
   "cell_type": "markdown",
   "metadata": {},
   "source": [
    "## Define a wrapper function"
   ]
  },
  {
   "cell_type": "code",
   "execution_count": null,
   "metadata": {},
   "outputs": [],
   "source": [
    "def romberg_integration(f,a,b,tol):\n",
    "    \n",
    "    #define an iteration variable\n",
    "    \n",
    "    i = 0\n",
    "    \n",
    "    #define a max number of iteration\n",
    "    imax = 1000\n",
    "    \n",
    "    #define an error estimate\n",
    "    delta = 100.0*np.fabs(tol)\n",
    "    \n",
    "    #set an array of integral answers\n",
    "    I = np.zeros(imax, dtype = float)\n",
    "    \n",
    "    #get the zeroth romberg iteration first\n",
    "    I[0] = 0.5*(b-a)*(f(a) + f(b))\n",
    "    \n",
    "    #iterate by 1\n",
    "    i += 1\n",
    "    \n",
    "    #iterate until we reach tolerance\n",
    "    while(delta>tol):\n",
    "        \n",
    "        #find the Romberg iteration \n",
    "        I[i] = 0.5*I[i-1] + romberg_core(f,a,b,i)\n",
    "        \n",
    "        #compute a fractional error estimate\n",
    "        delta = np.fabs( (I[i]-I[i-1])/I[i])\n",
    "        \n",
    "        print(i, I[i], I[i-1], delta)\n",
    "        \n",
    "        if(delta>tol):\n",
    "            \n",
    "            #iterate\n",
    "            i += 1\n",
    "            \n",
    "            #if we've reach maximum iteration\n",
    "            if(i>imax):\n",
    "                print(\"Max iterations reached.\")\n",
    "                raise StopIteration(\"Stopping iterations after \", i)\n",
    "                \n",
    "     #return the answer\n",
    "    return I[i]"
   ]
  },
  {
   "cell_type": "code",
   "execution_count": null,
   "metadata": {},
   "outputs": [],
   "source": [
    "Answer = func_integral(int(np.pi))-func_integral(0)#converting the constant np.pi into int\n",
    "print(Answer)\n",
    "print(\"Trapezoid\")\n",
    "print(trapezoid_method(func,0,int(np.pi),10))\n",
    "print(\"Simpson's\")\n",
    "print(simpsons_method(func,0,int(np.pi),10))\n",
    "print(\"Romberg\")\n",
    "tolerance = 1.0e-4\n",
    "RI = romberg_integration(func, 0, int(np.pi), tolerance)\n",
    "print(RI, (RI-Answer)/Answer, tolerance)"
   ]
  },
  {
   "cell_type": "markdown",
   "metadata": {},
   "source": [
    "## 3) How many iterations does Romberg integration take to reach the specified accuracy?\n",
    "\n",
    " ### The Romberg integration depends on the refined width of intervals that we are calculating to the integrals over we get better approximation to the integral. So, function evaluated at 1 is four times more accurate than function evaluated at 0.\n",
    "\n",
    "## 4) How many intervals does the trapezoid method need to reach the specified accuracy?\n",
    "\n",
    " ### In the trapezoid method each interval has an error that is 3rd order accurate i.e as we decrease the interval between the places we evaluate the function the error on the integral decreases by that width to the third power over the small interval. It's usually 2nd order for the intervals to reach the specified accuracy. \n",
    "\n",
    "## 5) How many intervals does Simpson’s method need to reach the specified accuracy?\n",
    " \n",
    " ### Simpson's rule is fourth order accurate over a large range of integrals. We decrease the interval by a factor of two and then locally the error improves by a factor of 32."
   ]
  },
  {
   "cell_type": "code",
   "execution_count": null,
   "metadata": {},
   "outputs": [],
   "source": [
    "\n"
   ]
  }
 ],
 "metadata": {
  "kernelspec": {
   "display_name": "Python 3",
   "language": "python",
   "name": "python3"
  },
  "language_info": {
   "codemirror_mode": {
    "name": "ipython",
    "version": 3
   },
   "file_extension": ".py",
   "mimetype": "text/x-python",
   "name": "python",
   "nbconvert_exporter": "python",
   "pygments_lexer": "ipython3",
   "version": "3.8.10"
  }
 },
 "nbformat": 4,
 "nbformat_minor": 4
}
