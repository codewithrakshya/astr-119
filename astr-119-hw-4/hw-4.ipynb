{
 "cells": [
  {
   "cell_type": "markdown",
   "metadata": {},
   "source": [
    "# Homework #4"
   ]
  },
  {
   "cell_type": "markdown",
   "metadata": {},
   "source": [
    "## Name - Rakshya Sharma\n",
    "## Subject - ASTR-119\n",
    "## Assignment - Homework 4\n",
    "## Date - October 24, 2021\n",
    "## Purpose - The purpose of this assignment is to write a jupyter notebook to perform Bisection Search root finding. \n",
    "## References - Professor Brant's code from Thursday, October 14 lecture and session 8 slides, https://matplotlib.org/stable/api/_as_gen/matplotlib.pyplot.hlines.html , https://numpy.org/doc/stable/reference/generated/numpy.linspace.html"
   ]
  },
  {
   "cell_type": "code",
   "execution_count": null,
   "metadata": {},
   "outputs": [],
   "source": [
    "%matplotlib inline\n",
    "import numpy as np\n",
    "import matplotlib.pyplot as plt"
   ]
  },
  {
   "cell_type": "markdown",
   "metadata": {},
   "source": [
    "### Defining a function for which we are finding the roots. "
   ]
  },
  {
   "cell_type": "code",
   "execution_count": null,
   "metadata": {},
   "outputs": [],
   "source": [
    "def function_for_roots(x):\n",
    "    a = 1.01\n",
    "    b = -3.04\n",
    "    c = 2.07\n",
    "    return a*x**2 + b*x + c #get the roots of quadratic"
   ]
  },
  {
   "cell_type": "markdown",
   "metadata": {},
   "source": [
    "### Validate our initial bracket"
   ]
  },
  {
   "cell_type": "code",
   "execution_count": null,
   "metadata": {},
   "outputs": [],
   "source": [
    "def check_initial_values(f, x_min, x_max, tol):\n",
    "    \n",
    "    #check our initial guesses\n",
    "    y_min = f(x_min)\n",
    "    y_max = f(x_max)\n",
    "    \n",
    "    #check that xmin and xmax bracket a root\n",
    "    if(y_min*y_max>0.0):\n",
    "        print(\"No zero crossing found in the range = \", x_min, x_max)\n",
    "        s = \"f(%f) = %f, f(%f) = %f\" % (x_min, y_min, x_max, y_max)\n",
    "        print(s)\n",
    "        return 0\n",
    "    # if x_min is a root, then return flag ==1\n",
    "    if(np.fabs(y_min)<tol):\n",
    "        return 1\n",
    "    # if x_max is a root, then return flag ==2\n",
    "    if(np.fabs(y_max)<tol):\n",
    "        return 2\n",
    "    \n",
    "    #if we reach this point, the bracket is valid\n",
    "    \n",
    "    return 3"
   ]
  },
  {
   "cell_type": "markdown",
   "metadata": {},
   "source": [
    "### Main work function "
   ]
  },
  {
   "cell_type": "markdown",
   "metadata": {},
   "source": [
    "#### this work function does the bisection root finding a loop and then we will have a driving routine that calls this function to do the root planning."
   ]
  },
  {
   "cell_type": "code",
   "execution_count": null,
   "metadata": {},
   "outputs": [],
   "source": [
    "def bisection_root_finding(f, x_min_start, x_max_start, tol):\n",
    "    #this function use bisectio search to find a root of f\n",
    "    \n",
    "    x_min = x_min_start #minimum x in bracket\n",
    "    x_max = x_max_start  #maximum x in bracket\n",
    "    x_mid = 0.0 #mid point\n",
    "    \n",
    "    y_min = f(x_min)\n",
    "    y_max = f(x_max)\n",
    "    y_mid = 0.0\n",
    "    \n",
    "    imax = 10000 #max number of iterations\n",
    "    i = 0 #iteration counter\n",
    "    \n",
    "    #check the initial values\n",
    "    flag = check_initial_values(f, x_min, x_max, tol)\n",
    "    \n",
    "    if(flag==0):\n",
    "        print(\"Error in bisection_root_finding\")\n",
    "        #raise a value error exception\n",
    "        raise ValueError(\"Initial values invalid \", x_min, x_max)\n",
    "    elif(flag==1):\n",
    "        #got lucky\n",
    "        return x_min\n",
    "    elif(flag==2):\n",
    "        #got lucky\n",
    "        return x_max\n",
    "    #if we reach here, then we conduct the search\n",
    "    \n",
    "    #set a flag\n",
    "    flag = 1\n",
    "    \n",
    "    #enter a while loop\n",
    "    while(flag):\n",
    "        \n",
    "        #set our mid point\n",
    "        x_mid = 0.5*(x_min+x_max)\n",
    "        y_mid = f(x_mid) #function at a x_mid\n",
    "        \n",
    "        #check if x_mid is a root\n",
    "        if(np.fabs(y_mid)<tol):\n",
    "            flag = 0\n",
    "        else:\n",
    "            #x_mid is not a root\n",
    "            \n",
    "            #if the product of the function at the midpoint\n",
    "            #and at one of the end points is greater then \n",
    "            #zero replace this end point\n",
    "            \n",
    "            if(f(x_min)*f(x_mid)>0):\n",
    "                #replace x_min with x_mid\n",
    "                x_min = x_mid\n",
    "            else:\n",
    "                #replace x_max with x_mid\n",
    "                x_max = x_mid\n",
    "                \n",
    "        #print out the iteration\n",
    "        print(x_min, f(x_min), x_max, f(x_max))\n",
    "        \n",
    "        #count the iteration \n",
    "        i += 1\n",
    "        \n",
    "        #if we have exceed the max numbers \n",
    "        # of iterations, exit\n",
    "        \n",
    "        if(i>= imax):\n",
    "            print(\"Exceeded max number of iterations = \", i)\n",
    "            s = \"Min bracket f(%f) = %f\" % (x_min, f(x_min))\n",
    "            print(s)\n",
    "            s = \"Max bracket f(%f) = %f\" % (x_max, f(x_max))\n",
    "            print(s)\n",
    "            s = \"Mid bracket f(%f) = %f\" % (x_mid, f(x_mid))\n",
    "            print(s)\n",
    "            raise StopIteration('Stopping iterations after ', i)\n",
    "            \n",
    "        #we are done\n",
    "    return x_mid"
   ]
  },
  {
   "cell_type": "markdown",
   "metadata": {},
   "source": [
    "### Perform the search"
   ]
  },
  {
   "cell_type": "code",
   "execution_count": null,
   "metadata": {},
   "outputs": [],
   "source": [
    "x_min = 0.0\n",
    "x_max = 1.5\n",
    "tolerance = 1.0e-6\n",
    "\n",
    "#print the initial guesses\n",
    "print(x_min, function_for_roots(x_min))\n",
    "print(x_max, function_for_roots(x_max))\n",
    "\n",
    "#call the bisection root finding routine\n",
    "#the root finding routine returns the root as its answer\n",
    "x_root = bisection_root_finding(function_for_roots, x_min, x_max, tolerance)\n",
    "y_root = function_for_roots(x_root)\n",
    "s = \"Root found with y(%f) = %f\" %(x_root, y_root)\n",
    "print(s)"
   ]
  },
  {
   "cell_type": "markdown",
   "metadata": {},
   "source": [
    "#### We can see our first bracket we have two values, x_min as 0 and parabola is 2.07. In the next bracket we have x_min = 1.5 and parabola equals -0.2175000000000007. These are our initial guesses."
   ]
  },
  {
   "cell_type": "markdown",
   "metadata": {},
   "source": [
    "#### Then in the third line we can see the iteration, we are halfway between 0.0 and 1.5. Our new bracket is 0.75 and value of parabola is 0.3581249999999996 whereas the value of parabola at 1,5 is still -0.2175000000000007."
   ]
  },
  {
   "cell_type": "markdown",
   "metadata": {},
   "source": [
    "#### Then again in next iteration we have pulled in the maximum value from 1.5 to 1.25 where the value of parabola -0.07171875000000005 and the miminum value as 0.9375 with the value of parabola as 0.10769531249999975."
   ]
  },
  {
   "cell_type": "markdown",
   "metadata": {},
   "source": [
    "#### Here we continue to alternate to shrink the bisection search bracket to the point where the midpoint is within the tolerance in the end to the point where we want. The method took sixteen iterations to converge."
   ]
  },
  {
   "cell_type": "code",
   "execution_count": null,
   "metadata": {},
   "outputs": [],
   "source": [
    "x = np.linspace(0, 3, 1000)# returns a row vector of 1000 evenly spaced points between x and f(x).\n",
    "\n",
    "fig = plt.figure(figsize=[10,10]) # sets the figure size to 10 x 10\n",
    "\n",
    "plt.xlim([0,3]) # sets the x range to [0,3]\n",
    "plt.ylim([-0.5,2.1])  # sets the y range to [-0.5,2.1]\n",
    "plt.plot(x,function_for_roots(x)) # f(x)= 1.01*x**2 -3.04*x +2.07\n",
    "\n",
    "#Using the plt.scatter to plot the points\n",
    "plt.scatter(x_min,function_for_roots(x_min),s = 200, c ='coral', label = 'Bracketing Values of x_min and its root')\n",
    "\n",
    "plt.scatter(x_max,function_for_roots(x_max),s = 200, c ='aqua',label = 'Bracketing Values of x_max and its root')\n",
    "\n",
    "plt.scatter(x_root,y_root,s = 200, c ='green',label = 'Bracketing Values of x_root and its roots')\n",
    "\n",
    "#plotting the horizontal line at y= 0\n",
    "plt.hlines(y = 0, xmin = 0, xmax = 3, colors='red', linestyles='dotted', label = 'horizontal line at y = 0')\n",
    "\n",
    "\n",
    "plt.xlabel('x') # labels the x axis\n",
    "plt.ylabel('f(x)') # labels the y axis\n",
    "plt.legend(loc = 1, framealpha = 0.4) #semi transparent\n",
    "\n",
    "plt.show()"
   ]
  },
  {
   "cell_type": "code",
   "execution_count": null,
   "metadata": {},
   "outputs": [],
   "source": []
  }
 ],
 "metadata": {
  "kernelspec": {
   "display_name": "Python 3",
   "language": "python",
   "name": "python3"
  },
  "language_info": {
   "codemirror_mode": {
    "name": "ipython",
    "version": 3
   },
   "file_extension": ".py",
   "mimetype": "text/x-python",
   "name": "python",
   "nbconvert_exporter": "python",
   "pygments_lexer": "ipython3",
   "version": "3.8.10"
  }
 },
 "nbformat": 4,
 "nbformat_minor": 4
}
